{
 "cells": [
  {
   "cell_type": "code",
   "execution_count": 6,
   "metadata": {},
   "outputs": [],
   "source": [
    "from selenium import webdriver\n",
    "from selenium.webdriver.chrome.options import Options\n",
    "from selenium.webdriver.common.by import By"
   ]
  },
  {
   "cell_type": "code",
   "execution_count": 7,
   "metadata": {},
   "outputs": [],
   "source": [
    "options = Options()\n",
    "options.add_argument(\"--headless\")\\"
   ]
  },
  {
   "cell_type": "code",
   "execution_count": 8,
   "metadata": {},
   "outputs": [
    {
     "name": "stdout",
     "output_type": "stream",
     "text": [
      "Advanced Topics: Real World Challenges You'll Encounter\n",
      "Scraping real websites, you're likely run into a number of common gotchas. Get practice with spoofing headers, handling logins & session cookies, finding CSRF tokens, and other common network errors.\n",
      "Spoofing Headers\n",
      "Sometimes you need to make your web scraper appear to be making HTTP requests as a browser in order to get the web server to return the same data that you see in your browser.\n",
      "Logins & Session Data\n",
      "Submit some data in one request, get a session cookie back from the site, and then be sure to send that cookie back on subsequent requests so you stay \"logged in\" between requests.\n",
      "CSRF & Hidden Values\n",
      "Some forms require hidden values to be submitted, not just the fields that have text fields. Load the login page, grab all the hidden value, then submit them with the rest of the form fields.\n"
     ]
    }
   ],
   "source": [
    "driver = webdriver.Chrome(options=options)\n",
    "\n",
    "url = \"https://www.scrapethissite.com/pages/advanced/\"\n",
    "driver.get(url)\n",
    "\n",
    "page = driver.find_elements(By.CLASS_NAME, \"row\")[0]\n",
    "print(page.text)\n",
    "\n",
    "driver.quit()"
   ]
  },
  {
   "cell_type": "code",
   "execution_count": 9,
   "metadata": {},
   "outputs": [
    {
     "name": "stdout",
     "output_type": "stream",
     "text": [
      "Headers properly spoofed, request appears to be coming from a browser :)\n"
     ]
    }
   ],
   "source": [
    "driver = webdriver.Chrome(options=options)\n",
    "\n",
    "url = \"https://www.scrapethissite.com/pages/advanced/?gotcha=headers\"\n",
    "driver.get(url)\n",
    "\n",
    "spoofing_task = driver.find_elements(By.CLASS_NAME, \"row\")[0]\n",
    "print(spoofing_task.text)\n",
    "\n",
    "driver.quit()"
   ]
  },
  {
   "cell_type": "code",
   "execution_count": 10,
   "metadata": {},
   "outputs": [],
   "source": [
    "driver = webdriver.Chrome(options=options)\n",
    "\n",
    "url = \"https://www.scrapethissite.com/pages/advanced/?gotcha=login\"\n",
    "driver.get(url)\n",
    "\n",
    "driver.find_elements(By.XPATH, \"/html/body\")\n",
    "\n",
    "driver.quit()"
   ]
  }
 ],
 "metadata": {
  "kernelspec": {
   "display_name": "Python 3",
   "language": "python",
   "name": "python3"
  },
  "language_info": {
   "codemirror_mode": {
    "name": "ipython",
    "version": 3
   },
   "file_extension": ".py",
   "mimetype": "text/x-python",
   "name": "python",
   "nbconvert_exporter": "python",
   "pygments_lexer": "ipython3",
   "version": "3.12.0"
  }
 },
 "nbformat": 4,
 "nbformat_minor": 2
}
